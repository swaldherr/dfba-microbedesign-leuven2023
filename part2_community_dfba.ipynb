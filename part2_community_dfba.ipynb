{
 "cells": [
  {
   "cell_type": "markdown",
   "id": "98ea71ec-ad16-4bb8-b89e-84026f459782",
   "metadata": {},
   "source": [
    "# Part 2: Community simulation with dynamic FBA\n",
    "\n",
    "In this tutorial, you are setting up a microbial community model and simulate it with a simplistic dynamic FBA scheme using [cobrapy](https://cobrapy.readthedocs.io) for the FBA solutions and the [integrate.solve_ivp](https://docs.scipy.org/doc/scipy/reference/generated/scipy.integrate.solve_ivp.html) function of scipy for the dynamic simulation.\n",
    "\n",
    "The community is a composition of yeast and an *Escherichia coli* strain that is assumed to be able to metabolize ethanol if oxygen is available. This *E. coli* model is meant as a substitute for *Acetobacter aceti* for which we don't have a suitable curated metabolic network reconstruction.\n",
    "\n",
    "The FBA models are in SBML format, and available from the [BiGG model database](http://bigg.ucsd.edu) as:\n",
    "\n",
    "* Yeast: http://bigg.ucsd.edu/models/iMM904\n",
    "* *E. coli*: http://bigg.ucsd.edu/models/iECW_1372\n",
    "\n",
    "We assume initially aerobic conditions, however, oxygen transfer is assumed to be slow and will become limiting at high metabolic activities.\n",
    "\n",
    "First, the two models will be downloaded an analysed individually with FBA to get a first idea of the relevant exchange constraints and fluxes.\n",
    "\n",
    "Then, dynamic FBA models for each species individually will be simulated.\n",
    "\n",
    "Finally, you will combine the two DFBA models into a single community model and simulate that.\n",
    "\n",
    "## General instructions\n",
    "\n",
    "* You generally need to run all the code cells below in sequence. Some of them may be incomplete or empty, follow the instructions to work out a code solution for them.\n",
    "* Explanatory text comes in markup text cells that have already be formatted, you can skip over these."
   ]
  },
  {
   "cell_type": "markdown",
   "id": "c7d415d8-da8a-4ca5-a4c9-4e421d681893",
   "metadata": {},
   "source": [
    "First import some required packages for the tutorial:"
   ]
  },
  {
   "cell_type": "code",
   "execution_count": null,
   "id": "1633f062-dbf7-404f-844e-e1b7c6081f17",
   "metadata": {},
   "outputs": [],
   "source": [
    "import numpy as np\n",
    "from scipy import integrate\n",
    "from matplotlib import pyplot\n",
    "import warnings\n",
    "import os.path\n",
    "import urllib.request"
   ]
  },
  {
   "cell_type": "markdown",
   "id": "59122174-48d2-4019-8f9f-6dcd8cbe213a",
   "metadata": {},
   "source": [
    "On Google Colaboratory we need to install cobra via pip first. Uncomment and run the following cell if you are on Google Colaboratory."
   ]
  },
  {
   "cell_type": "code",
   "execution_count": null,
   "id": "d7960651-55a5-4792-9e3e-1ad9e66c2650",
   "metadata": {},
   "outputs": [],
   "source": [
    "# !pip install cobra"
   ]
  },
  {
   "cell_type": "code",
   "execution_count": null,
   "id": "b806c32e-3fc0-48a7-a603-dd3fc477e67b",
   "metadata": {},
   "outputs": [],
   "source": [
    "import cobra"
   ]
  },
  {
   "cell_type": "markdown",
   "id": "36fc0a6a-98c6-4db5-8da4-e4577a885436",
   "metadata": {},
   "source": [
    "Download the FBA models if they are not present:"
   ]
  },
  {
   "cell_type": "code",
   "execution_count": null,
   "id": "b5aa2c67-84af-4382-a590-c849ffd3b00b",
   "metadata": {},
   "outputs": [],
   "source": [
    "if not os.path.exists(\"iMM904.xml\"):\n",
    "    urllib.request.urlretrieve(\"http://bigg.ucsd.edu/static/models/iMM904.xml\", \"iMM904.xml\")\n",
    "if not os.path.exists(\"iECW_1372.xml\"):\n",
    "    urllib.request.urlretrieve(\"http://bigg.ucsd.edu/static/models/iECW_1372.xml\", \"iECW_1372.xml\")"
   ]
  },
  {
   "cell_type": "markdown",
   "id": "9ca57695-031c-44cb-bbdc-52a09f70b7c6",
   "metadata": {},
   "source": [
    "The models can now be loaded into cobra as follows:"
   ]
  },
  {
   "cell_type": "code",
   "execution_count": null,
   "id": "071e157d-e0fa-4579-a6f7-dbeec58bba4e",
   "metadata": {},
   "outputs": [],
   "source": [
    "sc_model = cobra.io.read_sbml_model(\"iMM904.xml\")\n",
    "ec_model = cobra.io.read_sbml_model(\"iECW_1372.xml\")"
   ]
  },
  {
   "cell_type": "markdown",
   "id": "e63b10c5-337f-4b25-8489-b53bd021d8a0",
   "metadata": {},
   "source": [
    "## FBA and dynamic FBA for the yeast model\n",
    "\n",
    "Let's have a first look at the yeast model by just running FBA on it.\n",
    "\n",
    "The ``.summary()`` method in cobra displays exchange fluxes from the most recent FBA optimization:"
   ]
  },
  {
   "cell_type": "code",
   "execution_count": null,
   "id": "f732cb4b-7613-4385-87f4-2b86aa64bd24",
   "metadata": {},
   "outputs": [],
   "source": [
    "sc_sol = sc_model.optimize()\n",
    "print(sc_model.summary())"
   ]
  },
  {
   "cell_type": "markdown",
   "id": "cf85fa80-0475-48e0-815b-405fb7c14eb0",
   "metadata": {},
   "source": [
    "In the nominal version of the model, both glucose and oxygen uptake have been constrained to empirical values.\n",
    "To prepare for a dynamic FBA model, let's see what happens when we allow higher oxygen uptake (meaning a more negative lower bound on the exchange flux).\n",
    "In addition, we set a tighter bound on the ammonium uptake to model reduced nitrogen availability."
   ]
  },
  {
   "cell_type": "code",
   "execution_count": null,
   "id": "5f984b53-3620-4c46-846a-d88d5c4f799c",
   "metadata": {},
   "outputs": [],
   "source": [
    "with sc_model:\n",
    "    sc_model.exchanges.EX_o2_e.lower_bound = -40.0\n",
    "    sc_model.exchanges.EX_nh4_e.lower_bound = -5.0\n",
    "    sc_model.optimize()\n",
    "    print(sc_model.summary())"
   ]
  },
  {
   "cell_type": "markdown",
   "id": "295d3418-cb64-4aee-9b2e-b3641e408aa6",
   "metadata": {},
   "source": [
    "### Dynamic FBA for the yeast model\n",
    "\n",
    "To set up the dynamic FBA model, we define a few required parameters that describe kinetics of glucose uptake and oxygen transfer rates as well as cellular uptake of oxygen."
   ]
  },
  {
   "cell_type": "code",
   "execution_count": null,
   "id": "1f5debff-cb54-4ef4-a261-1ed477613d45",
   "metadata": {},
   "outputs": [],
   "source": [
    "V_max_glc = 10.0 # maximum rate of glucose uptake (bound from nominal FBA model).\n",
    "K_m_glc = 0.01 # Michaelis-Menten constant for glucose uptake (empirical)\n",
    "V_max_o2 = 20.0\n",
    "K_m_o2 = 0.1\n",
    "kLa_o2 = 10.0 # this value corresponds to a rather low rate of oxygen exchange.\n",
    "V_max_nh4 = 5.0 # assuming limited nitrogen availability"
   ]
  },
  {
   "cell_type": "markdown",
   "id": "ba65eb4e-8ade-4844-8b82-e8328b1120e6",
   "metadata": {},
   "source": [
    "The following function definition is the core of the dynamic FBA construction.\n",
    "The function will be used as the right hand side of a differential equation model.\n",
    "\n",
    "Internally, it computes the rate of change of the dynamic metabolites and biomass by solving the underlying FBA model.\n",
    "However, before the FBA model is solved, the exchange constraints are updated from the current metabolite concentrations, using the assumed kinetics for the uptake reactions.\n",
    "\n",
    "The dynamic variables, accessed through the vector ``x``, have the following meaning:\n",
    "* ``x[0]`` is yeast biomass in g/L.\n",
    "* ``x[1]`` is not used (remains constant), will be *E. coli* biomass later.\n",
    "* ``x[2]`` is glucose concentration in g/L.\n",
    "* ``x[3]`` is (dissolved) oxygen concentration in mg/L.\n",
    "* ``x[4]`` is ethanol concentration in g/L."
   ]
  },
  {
   "cell_type": "code",
   "execution_count": null,
   "id": "7bdfa266-9065-4fb3-80d2-4be2b98784d5",
   "metadata": {},
   "outputs": [],
   "source": [
    "def sc_dfba(t, x):\n",
    "    xdot = 0*x\n",
    "    # oxygen transfer is modelled by linear diffusive transport w.r.t. a saturation concentration of 10 mg/L.\n",
    "    xdot[3] = kLa_o2 * (10.0 - x[3]) # oxygen gas transfer in mg/L\n",
    "    with sc_model:\n",
    "        # Michaelis-Menten kinetics for glucose and oxygen uptake\n",
    "        sc_model.exchanges.EX_glc__D_e.lower_bound = - V_max_glc * x[2] / (K_m_glc + x[2]) if x[2] > 0 else 0.0\n",
    "        sc_model.exchanges.EX_o2_e.lower_bound = - V_max_o2 * x[3] / (K_m_o2 + x[3]) if x[3] > 0 else 0.0\n",
    "        sc_model.exchanges.EX_nh4_e.lower_bound = - V_max_nh4 # dynamics for NH4 are not included in the model.\n",
    "        sc_sol = sc_model.optimize()\n",
    "        # only use the FBA solution if the solver was successful, otherwise all fluxes are assumed to be 0.\n",
    "        if sc_sol.status == \"optimal\":\n",
    "            xdot[0] += sc_sol.fluxes['BIOMASS_SC5_notrace'] * x[0]\n",
    "            xdot[2] += sc_sol.fluxes['EX_glc__D_e'] * 0.18 * x[0] # molecular mass 0.18 g/mmol\n",
    "            xdot[3] += sc_sol.fluxes['EX_o2_e'] * 32 * x[0] # molecular mass 32 mg/mmol\n",
    "            xdot[4] += sc_sol.fluxes['EX_etoh_e'] * 0.046 * x[0] # in g/L\n",
    "    return xdot"
   ]
  },
  {
   "cell_type": "markdown",
   "id": "e94029b9-ac13-4e00-bdd9-f78b09dac1c9",
   "metadata": {},
   "source": [
    "Having defined the right hand side for the dynamic FBA model, we can now simulate the resulting differential equation model with the help of the [scipy.integrate.solve_ivp](https://docs.scipy.org/doc/scipy/reference/generated/scipy.integrate.solve_ivp.html) method.\n",
    "\n",
    "The ODE solver requires a right hand side as a python function, the simulation time range, and an initial condition which are defined below.\n",
    "\n",
    "A solver method can also be chosen, due to the stiffness of these models, it is recommended to use an implicit solver relying on backward differentiation formula (BDF).\n",
    "\n",
    "During the integration, the ODE solver will typically encounter some iterations where the FBA problem is infeasible. Cobrapy generates a warning about that, which may clutter the output. To hide these warnings, we can add a filter from the Python `warnings` module."
   ]
  },
  {
   "cell_type": "code",
   "execution_count": null,
   "id": "16993910-7b51-4c1f-838c-b7e9f5c9e1b4",
   "metadata": {},
   "outputs": [],
   "source": [
    "tsim = [0, 20]\n",
    "x0 = np.array([0.01, 0.0, 10.0, 10.0, 0.0]) # yeast biomass, unused, glucose, oxygen, ethanol\n",
    "with warnings.catch_warnings():\n",
    "    # uncomment the following line to hide warnings\n",
    "    # warnings.simplefilter(\"ignore\")\n",
    "    dfba_sol = integrate.solve_ivp(sc_dfba, tsim, x0, method='BDF')"
   ]
  },
  {
   "cell_type": "markdown",
   "id": "f4ded0fe-1528-483a-9893-f49bd83a3985",
   "metadata": {},
   "source": [
    "The simulation result is stored in the variable `dfba_sol`, and can now be plotted with the matplotlib library."
   ]
  },
  {
   "cell_type": "code",
   "execution_count": null,
   "id": "911ca38f-c22d-460e-9b6d-d55093730872",
   "metadata": {},
   "outputs": [],
   "source": [
    "fig, ax = pyplot.subplots(1, 1, figsize=(6,4))\n",
    "ax.plot(dfba_sol.t, dfba_sol.y[0,:], label=\"SC biomass (g/L)\")\n",
    "ax.plot(dfba_sol.t, dfba_sol.y[2,:], label=\"Glucose (g/L)\")\n",
    "ax.plot(dfba_sol.t, dfba_sol.y[3,:], label=\"Oxygen (mg/L)\")\n",
    "ax.plot(dfba_sol.t, dfba_sol.y[4,:], label=\"Ethanol (g/L)\")\n",
    "ax.set_xlabel(\"Time [h]\")\n",
    "# fig.savefig(\"dfba_sc.png\")\n",
    "ax.legend()"
   ]
  },
  {
   "cell_type": "markdown",
   "id": "ad1ac75a-e45d-4fa7-a339-0384c3ebd937",
   "metadata": {},
   "source": [
    "## FBA and dynamic FBA for the *E. coli* model\n",
    "\n",
    "Let's first check the growth rate and exchange fluxes for nominal conditions as defined in the FBA model:"
   ]
  },
  {
   "cell_type": "code",
   "execution_count": null,
   "id": "faf4247e-8993-4dd8-865c-936d8d190360",
   "metadata": {},
   "outputs": [],
   "source": [
    "ec_model.optimize()\n",
    "ec_model.summary()"
   ]
  },
  {
   "cell_type": "markdown",
   "id": "33080b43-cc18-4733-884e-81cdbb404fb0",
   "metadata": {},
   "source": [
    "In order to use that model as a substitute for *Acetobacter aceti*, we need it to grow on ethanol as a main carbon source under aerobic conditions. To describe these nutrient conditions, we set the lower bound on the glucose exchange rate at 0, and the lower bound on the ethanol exchange rate to a non-zero negative number."
   ]
  },
  {
   "cell_type": "code",
   "execution_count": null,
   "id": "5b791347-8b00-4254-8066-33a218c01d6d",
   "metadata": {},
   "outputs": [],
   "source": [
    "with ec_model:\n",
    "    # adjust the following bounds to describe a situation with no glucose, but ethanol in the medium\n",
    "    ec_model.exchanges.EX_glc__D_e.lower_bound = 0.0\n",
    "    ec_model.exchanges.EX_etoh_e.lower_bound = 0.0\n",
    "    fba_sol = ec_model.optimize()\n",
    "    # uncommet the following line to see the optimization result (produces an error if infeasible)\n",
    "    # print(ec_model.summary())"
   ]
  },
  {
   "cell_type": "markdown",
   "id": "73afc5e3-adac-4c2f-8302-da36df98936c",
   "metadata": {},
   "source": [
    "### Dynamic FBA for the *E. coli* model\n",
    "\n",
    "The dynamic FBA simulation for the *E. coli* model is set up analogously to the one for the yeast model. It considers the same extracellular metabolites and uses the same components of the `x` vector for these. For simplicity, we also use the same kinetic parameter values.\n",
    "\n",
    "The main difference is that now the *E. coli* model is used for the internal FBA optimization step, and the biomass is stored in `x[1]` instead of `x[0]`.\n",
    "\n",
    "Different to the yeast model, here we also permit an uptake of ethanol as a carbon source. This is added to the constraints on the exchange reactions."
   ]
  },
  {
   "cell_type": "markdown",
   "id": "d6dba3f4-7c28-4b16-8046-202548e2171e",
   "metadata": {},
   "source": [
    "The dynamic variables, accessed through the vector ``x``, have the following meaning:\n",
    "* ``x[0]`` is not used.\n",
    "* ``x[1]`` is *E. coli* biomass in g/L.\n",
    "* ``x[2]`` is glucose concentration in g/L.\n",
    "* ``x[3]`` is (dissolved) oxygen concentration in mg/L.\n",
    "* ``x[4]`` is ethanol concentration in g/L."
   ]
  },
  {
   "cell_type": "code",
   "execution_count": null,
   "id": "82ebf0c0-767f-459b-a53d-ec9b43a1c554",
   "metadata": {},
   "outputs": [],
   "source": [
    "V_max_eth = 10.0\n",
    "K_m_eth = 0.1"
   ]
  },
  {
   "cell_type": "code",
   "execution_count": null,
   "id": "bf4b4ebf-f297-4371-a898-d4a2efd2a2ba",
   "metadata": {},
   "outputs": [],
   "source": [
    "def ec_dfba(t, x):\n",
    "    xdot = 0*x\n",
    "    xdot[3] = kLa_o2 * (10.0 - x[3]) # oxygen gas transfer in mg/L\n",
    "    with ec_model:\n",
    "        # set the correct bounds on the following exchange fluxes by kinetic expressions\n",
    "        ec_model.exchanges.EX_glc__D_e.lower_bound = 0.0\n",
    "        ec_model.exchanges.EX_o2_e.lower_bound = 0.0\n",
    "        ec_model.exchanges.EX_nh4_e.lower_bound = 0.0\n",
    "        ec_model.exchanges.EX_etoh_e.lower_bound = - V_max_eth * x[4] / (K_m_eth + x[4]) if x[4] > 0 else 0.0\n",
    "        ec_sol = ec_model.optimize()\n",
    "        if ec_sol.status == \"optimal\":\n",
    "            # add the biomass growth and exchange fluxes on glucose and oxygen to xdot\n",
    "            # ethanol is already accounted for\n",
    "            xdot[4] += ec_sol.fluxes['EX_etoh_e'] * 0.046 * x[1] # in g/L\n",
    "    return xdot"
   ]
  },
  {
   "cell_type": "markdown",
   "id": "cba1a15c-41ff-4d50-8a0e-0e0517d87440",
   "metadata": {},
   "source": [
    "The simulation is started from initial conditions defined in `x0` with positive *E. coli* biomass, glucose in the medium, and full oxygen saturation."
   ]
  },
  {
   "cell_type": "code",
   "execution_count": null,
   "id": "bf160261-c936-46e7-9698-0a7bc2ef3335",
   "metadata": {},
   "outputs": [],
   "source": [
    "tsim = [0, 20]\n",
    "# define an initial condition with 0.01 g/L E. coli biomass\n",
    "x0 = np.array([0.0, 0.0, 10.0, 10.0, 0.0])\n",
    "with warnings.catch_warnings():\n",
    "    warnings.simplefilter(\"ignore\")\n",
    "    dfba_sol = integrate.solve_ivp(ec_dfba, tsim, x0, method='BDF')"
   ]
  },
  {
   "cell_type": "markdown",
   "id": "cfc31317-4de0-46a6-b247-7db50419ab7f",
   "metadata": {},
   "source": [
    "The following code should plot the simulation results. Notice that ethanol is re-metabolized after glucose runs out."
   ]
  },
  {
   "cell_type": "code",
   "execution_count": null,
   "id": "5edcdf4f-e812-4039-9a9c-5ff01ed57920",
   "metadata": {},
   "outputs": [],
   "source": [
    "fig, ax = pyplot.subplots(1, 1, figsize=(6,4))\n",
    "# add code to plot simulation results\n",
    "ax.plot(dfba_sol.t, dfba_sol.y[0,:], label=\"SC biomass (g/L)\")\n",
    "ax.set_xlabel(\"Time [h]\")\n",
    "# fig.savefig(\"dfba_ec.png\")\n",
    "ax.legend()"
   ]
  },
  {
   "cell_type": "markdown",
   "id": "2fa90136-15b9-4d87-a8ed-29fc67b1c58b",
   "metadata": {},
   "source": [
    "# Dynamic FBA simulation of the yeast / *E. coli* community\n",
    "\n",
    "For the community simulation, we simply put together the FBA models from the involved strains in the following way:\n",
    "* Bounds on exchange fluxes are set from the current metabolite concentrations\n",
    "* Each underlying FBA model is optimized independently in the ODE integration step\n",
    "* The resulting exchange fluxes on the dynamic extracellular metabolites are summed up from the individual FBA models to get the overall rate of change of each metabolite.\n",
    "\n",
    "In the community model, the following dynamic variables are thus used:\n",
    "* ``x[0]`` and ``x[1]`` are yeast and E. coli biomass, respectively.\n",
    "* ``x[2]`` is glucose concentration.\n",
    "* ``x[3]`` is oxygen concentration.\n",
    "* ``x[4]`` is ethanol concentration."
   ]
  },
  {
   "cell_type": "code",
   "execution_count": null,
   "id": "86b58452-3762-46c0-9c9f-56803b407fc0",
   "metadata": {},
   "outputs": [],
   "source": [
    "def community_dfba(t, x):\n",
    "    xdot = 0*x\n",
    "    xdot[3] = kLa_o2 * (10.0 - x[3]) # oxygen gas transfer in mg/L\n",
    "    with sc_model:\n",
    "        # set constraints on exchange fluxes using appropriate kinetic expressions\n",
    "        sc_sol = sc_model.optimize()\n",
    "        if sc_sol.status == \"optimal\":\n",
    "            xdot[0] += sc_sol.fluxes['BIOMASS_SC5_notrace'] * x[0]\n",
    "            # add resulting exchange fluxes to metabolite balances\n",
    "    with ec_model:\n",
    "        # set constraints on exchange fluxes using appropriate kinetic expressions\n",
    "        ec_sol = ec_model.optimize()\n",
    "        if ec_sol.status == \"optimal\":\n",
    "            xdot[1] += ec_sol.fluxes['BIOMASS_Ec_iJO1366_core_53p95M'] * x[1]\n",
    "            # add resulting exchange fluxes to metabolite balances\n",
    "    return xdot"
   ]
  },
  {
   "cell_type": "markdown",
   "id": "ee2efc52-af06-44fa-aea5-e6cfc0fd8af0",
   "metadata": {},
   "source": [
    "Again the simulation is run with scipy`s `integrate.solve_ivp` method. The initial condition `x0` includes both yeast and *E. coli* biomass, as well as glucose and oxygen in the medium.\n",
    "\n",
    "Here a slightly longer simulation time should be used, because more ethanol is produced during the early oxygen-limited phase, which is only slowly re-metabolized by the *E. coli* model."
   ]
  },
  {
   "cell_type": "code",
   "execution_count": null,
   "id": "e3e01485-ab87-4994-9208-e456df7f21aa",
   "metadata": {},
   "outputs": [],
   "source": [
    "tsim = [0, 30]\n",
    "x0 = np.array([0.01, 0.01, 10.0, 10.0, 0.0])\n",
    "with warnings.catch_warnings():\n",
    "    warnings.simplefilter(\"ignore\")\n",
    "    dfba_sol = integrate.solve_ivp(community_dfba, tsim, x0, method='BDF')"
   ]
  },
  {
   "cell_type": "code",
   "execution_count": null,
   "id": "e44f255b-02be-4a5d-96ce-e42d0906fce7",
   "metadata": {},
   "outputs": [],
   "source": [
    "fig, ax = pyplot.subplots(1, 1, figsize=(6,4))\n",
    "ax.plot(dfba_sol.t, dfba_sol.y[0,:], label=\"SC biomass (g/L)\")\n",
    "ax.plot(dfba_sol.t, dfba_sol.y[1,:], label=\"EC biomass (g/L)\")\n",
    "# add code to plot metabolite concentrations\n",
    "ax.set_xlabel(\"Time [h]\")\n",
    "# fig.savefig(\"dfba_community.png\")\n",
    "ax.legend()"
   ]
  },
  {
   "cell_type": "code",
   "execution_count": null,
   "id": "375cdd6e-0116-45e8-a4dd-d68f1d902a13",
   "metadata": {},
   "outputs": [],
   "source": []
  }
 ],
 "metadata": {
  "kernelspec": {
   "display_name": "Python 3 (ipykernel)",
   "language": "python",
   "name": "python3"
  },
  "language_info": {
   "codemirror_mode": {
    "name": "ipython",
    "version": 3
   },
   "file_extension": ".py",
   "mimetype": "text/x-python",
   "name": "python",
   "nbconvert_exporter": "python",
   "pygments_lexer": "ipython3",
   "version": "3.10.12"
  }
 },
 "nbformat": 4,
 "nbformat_minor": 5
}
