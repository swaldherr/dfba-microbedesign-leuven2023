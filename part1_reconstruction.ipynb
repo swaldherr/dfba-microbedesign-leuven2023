{
 "cells": [
  {
   "cell_type": "markdown",
   "id": "stretch-stage",
   "metadata": {},
   "source": [
    "# Part 1: FBA model reconstruction\n",
    "\n",
    "In this tutorial, you are using the platform https://modelseed.org to perform a metabolic network reconstruction of *Acetobacter aceti*.\n",
    "\n",
    "Overall you should follow these steps:\n",
    "\n",
    "1. Obtaining gene sequence data from a database\n",
    "2. Identify genes with a metabolic function\n",
    "3. Perform automatic model reconstruction on https://modelseed.org\n",
    "4. Check gene assignments in the automatic reconstruction\n",
    "5. Evalution of the FBA solution\n",
    "\n",
    "## General instructions\n",
    "\n",
    "* You generally need to run all the code cells below in sequence. Some of them may be incomplete or empty, follow the instructions to work out a code solution for them.\n",
    "* Explanatory text comes in markup text cells that have already be formatted, you can skip over these."
   ]
  },
  {
   "cell_type": "markdown",
   "id": "strategic-phone",
   "metadata": {},
   "source": [
    "## Obtaining gene sequence data\n",
    "\n",
    "In this exercise, you are constructing a metabolic network model for the gram negative bacterium *Acetobacter aceti*, which is used in the food industry to procude vinegar from alcohol.\n",
    "\n",
    "We are using the gene sequence available at the Bacterial and Viral Bioinformatics Resource Center (BV-BRC) under the identifier 435.5 (Acetobacter aceti strain TMW2.1153).\n",
    "You can obtain the sequence information from the database by the following steps:\n",
    "\n",
    "- Go to [www.bv-brc.org](https://www.bv-brc.org/).\n",
    "- Enter the strain name in the search field, and click on the returned Genome match which should have the ID 435.5.\n",
    "- Press the button labelled \"Download\" in the right margin, tick \"Protein Sequences in FASTA (*.faa)\" in the popup window, and press \"Download\".\n",
    "- The downloaded zip file will contain a file called \"435.5.PATRIC.faa\"; that is the one we need to work with.\n",
    "\n",
    "For the following code examples to work completely, you should add the downloaded file with the name ``acetobacter_aceti.txt` to the working directory of this notebook.\n",
    "In Google colaboratory, click on the folder symbol to the left and upload it there."
   ]
  },
  {
   "cell_type": "markdown",
   "id": "packed-concentration",
   "metadata": {},
   "source": [
    "## Identify genes with metabolic function\n",
    "\n",
    "The objective in this step is to identify, by means of a few examples, genes with important metabolic functions in the *Acetobacter aceti* genome.\n",
    "\n",
    "1. Look in the FASTA file for gene annotations that indicate a metabolic function. To see just the gene identifiers and annotations, you can run the following code cell:"
   ]
  },
  {
   "cell_type": "code",
   "execution_count": null,
   "id": "painful-piano",
   "metadata": {},
   "outputs": [],
   "source": [
    "! grep '>' acetobacter_aceti.txt"
   ]
  },
  {
   "cell_type": "markdown",
   "id": "featured-storm",
   "metadata": {},
   "source": [
    "2. Important enzymes for oxidation of ethanol to acetic acid are alcohol dehydrogenase (EC 1.1.1.1) and either acetate-coenzyme A ligase / acetyl-CoA synthetase (EC 6.2.1.1) or acetate kinase (2.7.2.1).\n",
    "   1. Check whether you can find genes with an annotation that indicates a function as one of these enzymes. Search the sequence file for \"alcohol\", \"acetate\", or \"coenzyme A\", and select some of the resulting protein sequences to run through a blast homology search.\n",
    "4. Determine the reaction equation for this gene either directly from uniprot.org or by looking up the EC number / gene name on https://biocyc.org."
   ]
  },
  {
   "cell_type": "markdown",
   "id": "unable-citation",
   "metadata": {},
   "source": [
    "### Example\n",
    "\n",
    "The evaluation of a metabolic function will be shown for one example gene.\n",
    "\n",
    "1. Looking at the gene identifier \"fig|435.5.peg.1340|A0U92_05840\" (line 8437 in the obtained FASTA file) we find that this is annotated as \"Alcohol dehydrogenase (EC 1.1.1.1) [Acetobacter aceti strain TMW2.1153 | 435.5]\" which indicates that this protein may act as an alcohol dedydrogenase. The full snippet of the FASTA file for this gene is as follows:\n",
    "\n",
    "        >fig|435.5.peg.1340|A0U92_05840   Alcohol dehydrogenase (EC 1.1.1.1)   [Acetobacter aceti strain TMW2.1153 | 435.5]\n",
    "        MAGKMKAAVAHEFNKPLTIEELDIPTINQNQILVKMDACGVCHTDLHAVRGDWPVKPTLP\n",
    "        FIPGHEGVGHVVQVGSNVNWVKEGDYVGVPYLYSACGHCLHCLGGWETLCEKQEDTGYTV\n",
    "        NGCFAEYVVADPNYVAHIPKGADPLQVAPVLCAGLTVYKALKMTDTKPGDWVAVSGVGGL\n",
    "        GQMAMQYGVAMGKNMIAVDIDDEKLATAKKLGAALTVNARDTDPAAFIQKEVGGAQGVVV\n",
    "        TAVSRIAFSQAMGYARRGGTIVLNGLPPGDFPVSIFDMVMNGTTVRGSIVGTRLDMIEAL\n",
    "        SFFADGKVHSVVKPDKLENINRIFDDLENGRIDGRVVLDFRN\n",
    "\n",
    "2. We enter this sequence in the search window at https://www.uniprot.org/blast, wait a moment for the algorithm to run, and look through the found matches.\n",
    "3. In that case, there are many matches, which are indeed labelled as \"Alcohol dehydrogenase\". If we click on the one from *Acetobacter estunensis*, which has 90.9% sequence similarity, we can see the protein description which also includes the EC number 1.1.1.1. This can be looked up on e.g. https://biocyc.org to correspond to the reaction equation:\n",
    "\n",
    "    ethanol + NAD+ <-> acetaldehyde + NADH + H+\n"
   ]
  },
  {
   "cell_type": "markdown",
   "id": "cellular-archives",
   "metadata": {},
   "source": [
    "## Automatic model reconstruction with modelseed.org\n",
    "\n",
    "Instead of going through all genes manually, we will now upload the genome sequence file to the platform https://modelseed.org to perform an automated reconstruction.\n",
    "\n",
    "1. In a browser, go to https://modelseed.org, log in, and select the tab \"Build Model\" in the top row.\n",
    "2. Select \"Upload microbes FASTA\", select your sequence file, choose the genome type \"Protein sequences\" and the template for gram-negative microbes.\n",
    "3. Press the button \"Build model\".\n",
    "4. After some time, the build process should be completed. For the subsequent steps, you should download the resulting model as SBML file. For the code in the following steps, it is assumed that you save this model in a file named `a_aceti.sbml`."
   ]
  },
  {
   "cell_type": "markdown",
   "id": "chemical-feelings",
   "metadata": {},
   "source": [
    "## Check gene assignments in the automatic reconstruction\n",
    "\n",
    "In this step, you are checking with the cobrapy toolbox which genes have been assigned to the metabolic network reconstruction, and try to verify the match with your previous blast results."
   ]
  },
  {
   "cell_type": "code",
   "execution_count": null,
   "id": "serious-strand",
   "metadata": {},
   "outputs": [],
   "source": [
    "import cobra\n",
    "aa_model = cobra.io.read_sbml_model(\"a_aceti.sbml\")"
   ]
  },
  {
   "cell_type": "markdown",
   "id": "satisfactory-synthetic",
   "metadata": {},
   "source": [
    "Look at reactions in the model. They are stored in the SBML object \"ListOfReactions\". Some will have an attribute `gene_reaction_rule` that refers to the genes which have been assigned to this reaction. Searching through the model for our previously analysed gene identifier \"A0U92_05840\", we find multiple reactions which modelseed has assigned to that gene. One of them is:"
   ]
  },
  {
   "cell_type": "code",
   "execution_count": null,
   "id": "finite-karma",
   "metadata": {},
   "outputs": [],
   "source": [
    "r = aa_model.reactions.get_by_id(\"rxn00543_c0\")\n",
    "display(r)"
   ]
  },
  {
   "cell_type": "code",
   "execution_count": null,
   "id": "4e4ac62a-2400-4f93-b757-1401ba7367b0",
   "metadata": {},
   "outputs": [],
   "source": [
    "aa_model.metabolites.cpd00029_c0"
   ]
  },
  {
   "cell_type": "markdown",
   "id": "0faef500-6fe9-4158-b30c-7ee531140ff0",
   "metadata": {},
   "source": [
    "In order to check which reactions for metabolization to acetate have been included in the model, we can just look at all reactions in the model that include acetate as a reactant. Intracellular acetate has the identifier `cpd_00029_c0` in modelseed, so the following code will print the information for all reactions involve intracellular acetate:"
   ]
  },
  {
   "cell_type": "code",
   "execution_count": null,
   "id": "5bf0d2af-83a9-4c6b-bef5-a5c36729b0dc",
   "metadata": {},
   "outputs": [],
   "source": [
    "for r in aa_model.metabolites.cpd00029_c0.reactions:\n",
    "    display(r)"
   ]
  },
  {
   "cell_type": "markdown",
   "id": "sealed-father",
   "metadata": {},
   "source": [
    "## Evaluating FBA results\n",
    "\n",
    "A first FBA solution can be obtained by calling the `optimize` method from cobrapy on the loaded model, and printing the resulting model summary."
   ]
  },
  {
   "cell_type": "code",
   "execution_count": null,
   "id": "martial-nelson",
   "metadata": {},
   "outputs": [],
   "source": [
    "# Code to perform analysis of the FBA model\n",
    "sol = aa_model.optimize()\n",
    "print(aa_model.summary())"
   ]
  },
  {
   "cell_type": "markdown",
   "id": "e4f51663-04fb-4ac9-9037-ec44532a3165",
   "metadata": {},
   "source": [
    "Since no medium constraints (nutrient uptake) have been defined during the reconstruction, we get a very high growth rate and some very high fluxes for different exchange reactions. You can inspect some of them with cobrapy:"
   ]
  },
  {
   "cell_type": "code",
   "execution_count": null,
   "id": "2e015c27-0d3f-41d5-9be7-091d303d238b",
   "metadata": {},
   "outputs": [],
   "source": [
    "aa_model.reactions.EX_cpd00100_e0"
   ]
  },
  {
   "cell_type": "markdown",
   "id": "e054d0d3-b2ea-4ffa-8cd1-412968fd812a",
   "metadata": {},
   "source": [
    "In order to get a more realistic FBA model from this automatic reconstruction, a number of additional steps would have to be performed:\n",
    "* Add uptake / exchange constraints on extracellular metabolites to represent a realistic medium composition and uptake rate limitations.\n",
    "* Verify that intracellular reactions that have been added by modelseed are a realistic representation of the organism's physiology, add or remove reactions to correct if not."
   ]
  }
 ],
 "metadata": {
  "kernelspec": {
   "display_name": "Python 3 (ipykernel)",
   "language": "python",
   "name": "python3"
  },
  "language_info": {
   "codemirror_mode": {
    "name": "ipython",
    "version": 3
   },
   "file_extension": ".py",
   "mimetype": "text/x-python",
   "name": "python",
   "nbconvert_exporter": "python",
   "pygments_lexer": "ipython3",
   "version": "3.10.12"
  }
 },
 "nbformat": 4,
 "nbformat_minor": 5
}
